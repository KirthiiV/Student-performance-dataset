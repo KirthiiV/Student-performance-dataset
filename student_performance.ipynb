{
  "nbformat": 4,
  "nbformat_minor": 0,
  "metadata": {
    "colab": {
      "provenance": []
    },
    "kernelspec": {
      "name": "python3",
      "display_name": "Python 3"
    },
    "language_info": {
      "name": "python"
    }
  },
  "cells": [
    {
      "cell_type": "code",
      "execution_count": null,
      "metadata": {
        "colab": {
          "base_uri": "https://localhost:8080/",
          "height": 380
        },
        "id": "KFY3cPGd0mrd",
        "outputId": "2ce22126-44c1-48ee-d854-9470b73afb05"
      },
      "outputs": [
        {
          "output_type": "error",
          "ename": "AttributeError",
          "evalue": "ignored",
          "traceback": [
            "\u001b[0;31m---------------------------------------------------------------------------\u001b[0m",
            "\u001b[0;31mAttributeError\u001b[0m                            Traceback (most recent call last)",
            "\u001b[0;32m<ipython-input-3-0999e5c43287>\u001b[0m in \u001b[0;36m<module>\u001b[0;34m\u001b[0m\n\u001b[1;32m      8\u001b[0m \u001b[0;34m\u001b[0m\u001b[0m\n\u001b[1;32m      9\u001b[0m \u001b[0;32mfor\u001b[0m \u001b[0murl\u001b[0m \u001b[0;32min\u001b[0m \u001b[0murls\u001b[0m\u001b[0;34m:\u001b[0m\u001b[0;34m\u001b[0m\u001b[0;34m\u001b[0m\u001b[0m\n\u001b[0;32m---> 10\u001b[0;31m   \u001b[0mpage\u001b[0m\u001b[0;34m=\u001b[0m\u001b[0mrequests\u001b[0m\u001b[0;34m.\u001b[0m\u001b[0mget\u001b[0m\u001b[0;34m(\u001b[0m\u001b[0murl\u001b[0m\u001b[0;34m,\u001b[0m \u001b[0mheaders\u001b[0m\u001b[0;34m=\u001b[0m\u001b[0mheaders_\u001b[0m\u001b[0;34m)\u001b[0m\u001b[0;34m\u001b[0m\u001b[0;34m\u001b[0m\u001b[0m\n\u001b[0m\u001b[1;32m     11\u001b[0m \u001b[0;34m\u001b[0m\u001b[0m\n\u001b[1;32m     12\u001b[0m   \u001b[0msoup\u001b[0m\u001b[0;34m=\u001b[0m\u001b[0mbs\u001b[0m\u001b[0;34m(\u001b[0m\u001b[0mpage\u001b[0m\u001b[0;34m.\u001b[0m\u001b[0mcontent\u001b[0m\u001b[0;34m,\u001b[0m\u001b[0;34m'html.parser'\u001b[0m\u001b[0;34m)\u001b[0m\u001b[0;34m\u001b[0m\u001b[0;34m\u001b[0m\u001b[0m\n",
            "\u001b[0;32m/usr/local/lib/python3.9/dist-packages/requests/api.py\u001b[0m in \u001b[0;36mget\u001b[0;34m(url, params, **kwargs)\u001b[0m\n\u001b[1;32m     73\u001b[0m     \"\"\"\n\u001b[1;32m     74\u001b[0m \u001b[0;34m\u001b[0m\u001b[0m\n\u001b[0;32m---> 75\u001b[0;31m     \u001b[0;32mreturn\u001b[0m \u001b[0mrequest\u001b[0m\u001b[0;34m(\u001b[0m\u001b[0;34m'get'\u001b[0m\u001b[0;34m,\u001b[0m \u001b[0murl\u001b[0m\u001b[0;34m,\u001b[0m \u001b[0mparams\u001b[0m\u001b[0;34m=\u001b[0m\u001b[0mparams\u001b[0m\u001b[0;34m,\u001b[0m \u001b[0;34m**\u001b[0m\u001b[0mkwargs\u001b[0m\u001b[0;34m)\u001b[0m\u001b[0;34m\u001b[0m\u001b[0;34m\u001b[0m\u001b[0m\n\u001b[0m\u001b[1;32m     76\u001b[0m \u001b[0;34m\u001b[0m\u001b[0m\n\u001b[1;32m     77\u001b[0m \u001b[0;34m\u001b[0m\u001b[0m\n",
            "\u001b[0;32m/usr/local/lib/python3.9/dist-packages/requests/api.py\u001b[0m in \u001b[0;36mrequest\u001b[0;34m(method, url, **kwargs)\u001b[0m\n\u001b[1;32m     59\u001b[0m     \u001b[0;31m# cases, and look like a memory leak in others.\u001b[0m\u001b[0;34m\u001b[0m\u001b[0;34m\u001b[0m\u001b[0m\n\u001b[1;32m     60\u001b[0m     \u001b[0;32mwith\u001b[0m \u001b[0msessions\u001b[0m\u001b[0;34m.\u001b[0m\u001b[0mSession\u001b[0m\u001b[0;34m(\u001b[0m\u001b[0;34m)\u001b[0m \u001b[0;32mas\u001b[0m \u001b[0msession\u001b[0m\u001b[0;34m:\u001b[0m\u001b[0;34m\u001b[0m\u001b[0;34m\u001b[0m\u001b[0m\n\u001b[0;32m---> 61\u001b[0;31m         \u001b[0;32mreturn\u001b[0m \u001b[0msession\u001b[0m\u001b[0;34m.\u001b[0m\u001b[0mrequest\u001b[0m\u001b[0;34m(\u001b[0m\u001b[0mmethod\u001b[0m\u001b[0;34m=\u001b[0m\u001b[0mmethod\u001b[0m\u001b[0;34m,\u001b[0m \u001b[0murl\u001b[0m\u001b[0;34m=\u001b[0m\u001b[0murl\u001b[0m\u001b[0;34m,\u001b[0m \u001b[0;34m**\u001b[0m\u001b[0mkwargs\u001b[0m\u001b[0;34m)\u001b[0m\u001b[0;34m\u001b[0m\u001b[0;34m\u001b[0m\u001b[0m\n\u001b[0m\u001b[1;32m     62\u001b[0m \u001b[0;34m\u001b[0m\u001b[0m\n\u001b[1;32m     63\u001b[0m \u001b[0;34m\u001b[0m\u001b[0m\n",
            "\u001b[0;32m/usr/local/lib/python3.9/dist-packages/requests/sessions.py\u001b[0m in \u001b[0;36mrequest\u001b[0;34m(self, method, url, params, data, headers, cookies, files, auth, timeout, allow_redirects, proxies, hooks, stream, verify, cert, json)\u001b[0m\n\u001b[1;32m    513\u001b[0m             \u001b[0mhooks\u001b[0m\u001b[0;34m=\u001b[0m\u001b[0mhooks\u001b[0m\u001b[0;34m,\u001b[0m\u001b[0;34m\u001b[0m\u001b[0;34m\u001b[0m\u001b[0m\n\u001b[1;32m    514\u001b[0m         )\n\u001b[0;32m--> 515\u001b[0;31m         \u001b[0mprep\u001b[0m \u001b[0;34m=\u001b[0m \u001b[0mself\u001b[0m\u001b[0;34m.\u001b[0m\u001b[0mprepare_request\u001b[0m\u001b[0;34m(\u001b[0m\u001b[0mreq\u001b[0m\u001b[0;34m)\u001b[0m\u001b[0;34m\u001b[0m\u001b[0;34m\u001b[0m\u001b[0m\n\u001b[0m\u001b[1;32m    516\u001b[0m \u001b[0;34m\u001b[0m\u001b[0m\n\u001b[1;32m    517\u001b[0m         \u001b[0mproxies\u001b[0m \u001b[0;34m=\u001b[0m \u001b[0mproxies\u001b[0m \u001b[0;32mor\u001b[0m \u001b[0;34m{\u001b[0m\u001b[0;34m}\u001b[0m\u001b[0;34m\u001b[0m\u001b[0;34m\u001b[0m\u001b[0m\n",
            "\u001b[0;32m/usr/local/lib/python3.9/dist-packages/requests/sessions.py\u001b[0m in \u001b[0;36mprepare_request\u001b[0;34m(self, request)\u001b[0m\n\u001b[1;32m    441\u001b[0m \u001b[0;34m\u001b[0m\u001b[0m\n\u001b[1;32m    442\u001b[0m         \u001b[0mp\u001b[0m \u001b[0;34m=\u001b[0m \u001b[0mPreparedRequest\u001b[0m\u001b[0;34m(\u001b[0m\u001b[0;34m)\u001b[0m\u001b[0;34m\u001b[0m\u001b[0;34m\u001b[0m\u001b[0m\n\u001b[0;32m--> 443\u001b[0;31m         p.prepare(\n\u001b[0m\u001b[1;32m    444\u001b[0m             \u001b[0mmethod\u001b[0m\u001b[0;34m=\u001b[0m\u001b[0mrequest\u001b[0m\u001b[0;34m.\u001b[0m\u001b[0mmethod\u001b[0m\u001b[0;34m.\u001b[0m\u001b[0mupper\u001b[0m\u001b[0;34m(\u001b[0m\u001b[0;34m)\u001b[0m\u001b[0;34m,\u001b[0m\u001b[0;34m\u001b[0m\u001b[0;34m\u001b[0m\u001b[0m\n\u001b[1;32m    445\u001b[0m             \u001b[0murl\u001b[0m\u001b[0;34m=\u001b[0m\u001b[0mrequest\u001b[0m\u001b[0;34m.\u001b[0m\u001b[0murl\u001b[0m\u001b[0;34m,\u001b[0m\u001b[0;34m\u001b[0m\u001b[0;34m\u001b[0m\u001b[0m\n",
            "\u001b[0;32m/usr/local/lib/python3.9/dist-packages/requests/models.py\u001b[0m in \u001b[0;36mprepare\u001b[0;34m(self, method, url, headers, files, data, params, auth, cookies, hooks, json)\u001b[0m\n\u001b[1;32m    317\u001b[0m         \u001b[0mself\u001b[0m\u001b[0;34m.\u001b[0m\u001b[0mprepare_method\u001b[0m\u001b[0;34m(\u001b[0m\u001b[0mmethod\u001b[0m\u001b[0;34m)\u001b[0m\u001b[0;34m\u001b[0m\u001b[0;34m\u001b[0m\u001b[0m\n\u001b[1;32m    318\u001b[0m         \u001b[0mself\u001b[0m\u001b[0;34m.\u001b[0m\u001b[0mprepare_url\u001b[0m\u001b[0;34m(\u001b[0m\u001b[0murl\u001b[0m\u001b[0;34m,\u001b[0m \u001b[0mparams\u001b[0m\u001b[0;34m)\u001b[0m\u001b[0;34m\u001b[0m\u001b[0;34m\u001b[0m\u001b[0m\n\u001b[0;32m--> 319\u001b[0;31m         \u001b[0mself\u001b[0m\u001b[0;34m.\u001b[0m\u001b[0mprepare_headers\u001b[0m\u001b[0;34m(\u001b[0m\u001b[0mheaders\u001b[0m\u001b[0;34m)\u001b[0m\u001b[0;34m\u001b[0m\u001b[0;34m\u001b[0m\u001b[0m\n\u001b[0m\u001b[1;32m    320\u001b[0m         \u001b[0mself\u001b[0m\u001b[0;34m.\u001b[0m\u001b[0mprepare_cookies\u001b[0m\u001b[0;34m(\u001b[0m\u001b[0mcookies\u001b[0m\u001b[0;34m)\u001b[0m\u001b[0;34m\u001b[0m\u001b[0;34m\u001b[0m\u001b[0m\n\u001b[1;32m    321\u001b[0m         \u001b[0mself\u001b[0m\u001b[0;34m.\u001b[0m\u001b[0mprepare_body\u001b[0m\u001b[0;34m(\u001b[0m\u001b[0mdata\u001b[0m\u001b[0;34m,\u001b[0m \u001b[0mfiles\u001b[0m\u001b[0;34m,\u001b[0m \u001b[0mjson\u001b[0m\u001b[0;34m)\u001b[0m\u001b[0;34m\u001b[0m\u001b[0;34m\u001b[0m\u001b[0m\n",
            "\u001b[0;32m/usr/local/lib/python3.9/dist-packages/requests/models.py\u001b[0m in \u001b[0;36mprepare_headers\u001b[0;34m(self, headers)\u001b[0m\n\u001b[1;32m    449\u001b[0m         \u001b[0mself\u001b[0m\u001b[0;34m.\u001b[0m\u001b[0mheaders\u001b[0m \u001b[0;34m=\u001b[0m \u001b[0mCaseInsensitiveDict\u001b[0m\u001b[0;34m(\u001b[0m\u001b[0;34m)\u001b[0m\u001b[0;34m\u001b[0m\u001b[0;34m\u001b[0m\u001b[0m\n\u001b[1;32m    450\u001b[0m         \u001b[0;32mif\u001b[0m \u001b[0mheaders\u001b[0m\u001b[0;34m:\u001b[0m\u001b[0;34m\u001b[0m\u001b[0;34m\u001b[0m\u001b[0m\n\u001b[0;32m--> 451\u001b[0;31m             \u001b[0;32mfor\u001b[0m \u001b[0mheader\u001b[0m \u001b[0;32min\u001b[0m \u001b[0mheaders\u001b[0m\u001b[0;34m.\u001b[0m\u001b[0mitems\u001b[0m\u001b[0;34m(\u001b[0m\u001b[0;34m)\u001b[0m\u001b[0;34m:\u001b[0m\u001b[0;34m\u001b[0m\u001b[0;34m\u001b[0m\u001b[0m\n\u001b[0m\u001b[1;32m    452\u001b[0m                 \u001b[0;31m# Raise exception on invalid header value.\u001b[0m\u001b[0;34m\u001b[0m\u001b[0;34m\u001b[0m\u001b[0m\n\u001b[1;32m    453\u001b[0m                 \u001b[0mcheck_header_validity\u001b[0m\u001b[0;34m(\u001b[0m\u001b[0mheader\u001b[0m\u001b[0;34m)\u001b[0m\u001b[0;34m\u001b[0m\u001b[0;34m\u001b[0m\u001b[0m\n",
            "\u001b[0;31mAttributeError\u001b[0m: 'set' object has no attribute 'items'"
          ]
        }
      ],
      "source": [
        "from bs4 import BeautifulSoup as bs\n",
        "import requests \n",
        "import pandas as pd\n",
        "import matplotlib.pyplot as plt \n",
        "\n",
        "urls=[\"https://towardsdatascience.com/how-teachers-can-use-data-science-to-analyse-students-scores-26d0b2ec5694\"]\n",
        "headers_={'Mozilla/5.0 (Windows NT 10.0; Win64; x64) AppleWebKit/537.36 (KHTML, like Gecko) Chrome/111.0.0.0 Safari/537.36'}\n",
        "\n",
        "for url in urls:\n",
        "  page=requests.get(url, headers=headers_)\n",
        "  \n",
        "  soup=bs(page.content,'html.parser')\n",
        "\n",
        "  Contents=soup.findAll(\"p\")\n",
        "\n",
        "Scrapped_data=[]\n",
        "for content in Contents:\n",
        "  Text=content.get_text()\n",
        "  Scrapped_data.append([Text])\n",
        "\n",
        "df=pd.DataFrame(Scrapped_data,columns=[\"Text\"])\n",
        "\n",
        "display(df)\n",
        "\n",
        "df.to_json(\"student.json\")"
      ]
    },
    {
      "cell_type": "code",
      "source": [
        "import string\n",
        "string.punctuation\n",
        "def remove_punctuation(text):\n",
        "    punctuationfree=\"\".join([i for i in text if i not in string.punctuation])\n",
        "    return punctuationfree\n",
        "#storing the puntuation free text\n",
        "df['puntuation free text']= df['Text'].apply(lambda x:remove_punctuation(x))\n",
        "#Lowering the text\n",
        "df['lower']= df['puntuation free text'].apply(lambda x: x.lower())\n",
        "\n",
        "#Tokenization\n",
        "from nltk.tokenize import TweetTokenizer as tt\n",
        "#applying function to the column\n",
        "tokenizer = tt()      \n",
        "df['tokenized_text'] = df['lower'].apply(lambda x: tokenizer.tokenize(x))\n",
        "\n",
        "#Removing stop words\n",
        "import nltk\n",
        "from nltk.corpus import stopwords\n",
        "nltk.download('stopwords')\n",
        "stopword = stopwords.words('english')\n",
        "def remove_stopwords(text):\n",
        "    output= [i for i in text if i not in stopword]\n",
        "    return output\n",
        "df['no_stopwords']= df['tokenized_text'].apply(lambda x:remove_stopwords(x))\n",
        "\n",
        "#Lemmatization\n",
        "from nltk.stem import WordNetLemmatizer\n",
        "nltk.download('wordnet')\n",
        "nltk.download('omw-1.4')\n",
        "wordnet_lemmatizer = WordNetLemmatizer()\n",
        "def lemmatizer(no_stopwords):\n",
        "    lemm_text = [wordnet_lemmatizer.lemmatize(word) for word in no_stopwords]\n",
        "    return lemm_text\n",
        "df['lematizer']=df['no_stopwords'].apply(lambda x:lemmatizer(x))\n",
        "display(df.head())\n"
      ],
      "metadata": {
        "colab": {
          "base_uri": "https://localhost:8080/",
          "height": 310
        },
        "id": "tD5sxrIj1GWd",
        "outputId": "9065a55e-d130-4e00-cb04-32b7a1842450"
      },
      "execution_count": null,
      "outputs": [
        {
          "output_type": "stream",
          "name": "stderr",
          "text": [
            "[nltk_data] Downloading package stopwords to /root/nltk_data...\n",
            "[nltk_data]   Package stopwords is already up-to-date!\n",
            "[nltk_data] Downloading package wordnet to /root/nltk_data...\n",
            "[nltk_data]   Package wordnet is already up-to-date!\n",
            "[nltk_data] Downloading package omw-1.4 to /root/nltk_data...\n",
            "[nltk_data]   Package omw-1.4 is already up-to-date!\n"
          ]
        },
        {
          "output_type": "display_data",
          "data": {
            "text/plain": [
              "                   Text  puntuation free text                 lower  \\\n",
              "0               Sign up               Sign up               sign up   \n",
              "1               Sign In               Sign In               sign in   \n",
              "2               Sign up               Sign up               sign up   \n",
              "3               Sign In               Sign In               sign in   \n",
              "4  Towards Data Science  Towards Data Science  towards data science   \n",
              "\n",
              "             tokenized_text              no_stopwords  \\\n",
              "0                [sign, up]                    [sign]   \n",
              "1                [sign, in]                    [sign]   \n",
              "2                [sign, up]                    [sign]   \n",
              "3                [sign, in]                    [sign]   \n",
              "4  [towards, data, science]  [towards, data, science]   \n",
              "\n",
              "                  lematizer  \n",
              "0                    [sign]  \n",
              "1                    [sign]  \n",
              "2                    [sign]  \n",
              "3                    [sign]  \n",
              "4  [towards, data, science]  "
            ],
            "text/html": [
              "\n",
              "  <div id=\"df-2e19659c-64c1-4089-a6a1-6b9558247093\">\n",
              "    <div class=\"colab-df-container\">\n",
              "      <div>\n",
              "<style scoped>\n",
              "    .dataframe tbody tr th:only-of-type {\n",
              "        vertical-align: middle;\n",
              "    }\n",
              "\n",
              "    .dataframe tbody tr th {\n",
              "        vertical-align: top;\n",
              "    }\n",
              "\n",
              "    .dataframe thead th {\n",
              "        text-align: right;\n",
              "    }\n",
              "</style>\n",
              "<table border=\"1\" class=\"dataframe\">\n",
              "  <thead>\n",
              "    <tr style=\"text-align: right;\">\n",
              "      <th></th>\n",
              "      <th>Text</th>\n",
              "      <th>puntuation free text</th>\n",
              "      <th>lower</th>\n",
              "      <th>tokenized_text</th>\n",
              "      <th>no_stopwords</th>\n",
              "      <th>lematizer</th>\n",
              "    </tr>\n",
              "  </thead>\n",
              "  <tbody>\n",
              "    <tr>\n",
              "      <th>0</th>\n",
              "      <td>Sign up</td>\n",
              "      <td>Sign up</td>\n",
              "      <td>sign up</td>\n",
              "      <td>[sign, up]</td>\n",
              "      <td>[sign]</td>\n",
              "      <td>[sign]</td>\n",
              "    </tr>\n",
              "    <tr>\n",
              "      <th>1</th>\n",
              "      <td>Sign In</td>\n",
              "      <td>Sign In</td>\n",
              "      <td>sign in</td>\n",
              "      <td>[sign, in]</td>\n",
              "      <td>[sign]</td>\n",
              "      <td>[sign]</td>\n",
              "    </tr>\n",
              "    <tr>\n",
              "      <th>2</th>\n",
              "      <td>Sign up</td>\n",
              "      <td>Sign up</td>\n",
              "      <td>sign up</td>\n",
              "      <td>[sign, up]</td>\n",
              "      <td>[sign]</td>\n",
              "      <td>[sign]</td>\n",
              "    </tr>\n",
              "    <tr>\n",
              "      <th>3</th>\n",
              "      <td>Sign In</td>\n",
              "      <td>Sign In</td>\n",
              "      <td>sign in</td>\n",
              "      <td>[sign, in]</td>\n",
              "      <td>[sign]</td>\n",
              "      <td>[sign]</td>\n",
              "    </tr>\n",
              "    <tr>\n",
              "      <th>4</th>\n",
              "      <td>Towards Data Science</td>\n",
              "      <td>Towards Data Science</td>\n",
              "      <td>towards data science</td>\n",
              "      <td>[towards, data, science]</td>\n",
              "      <td>[towards, data, science]</td>\n",
              "      <td>[towards, data, science]</td>\n",
              "    </tr>\n",
              "  </tbody>\n",
              "</table>\n",
              "</div>\n",
              "      <button class=\"colab-df-convert\" onclick=\"convertToInteractive('df-2e19659c-64c1-4089-a6a1-6b9558247093')\"\n",
              "              title=\"Convert this dataframe to an interactive table.\"\n",
              "              style=\"display:none;\">\n",
              "        \n",
              "  <svg xmlns=\"http://www.w3.org/2000/svg\" height=\"24px\"viewBox=\"0 0 24 24\"\n",
              "       width=\"24px\">\n",
              "    <path d=\"M0 0h24v24H0V0z\" fill=\"none\"/>\n",
              "    <path d=\"M18.56 5.44l.94 2.06.94-2.06 2.06-.94-2.06-.94-.94-2.06-.94 2.06-2.06.94zm-11 1L8.5 8.5l.94-2.06 2.06-.94-2.06-.94L8.5 2.5l-.94 2.06-2.06.94zm10 10l.94 2.06.94-2.06 2.06-.94-2.06-.94-.94-2.06-.94 2.06-2.06.94z\"/><path d=\"M17.41 7.96l-1.37-1.37c-.4-.4-.92-.59-1.43-.59-.52 0-1.04.2-1.43.59L10.3 9.45l-7.72 7.72c-.78.78-.78 2.05 0 2.83L4 21.41c.39.39.9.59 1.41.59.51 0 1.02-.2 1.41-.59l7.78-7.78 2.81-2.81c.8-.78.8-2.07 0-2.86zM5.41 20L4 18.59l7.72-7.72 1.47 1.35L5.41 20z\"/>\n",
              "  </svg>\n",
              "      </button>\n",
              "      \n",
              "  <style>\n",
              "    .colab-df-container {\n",
              "      display:flex;\n",
              "      flex-wrap:wrap;\n",
              "      gap: 12px;\n",
              "    }\n",
              "\n",
              "    .colab-df-convert {\n",
              "      background-color: #E8F0FE;\n",
              "      border: none;\n",
              "      border-radius: 50%;\n",
              "      cursor: pointer;\n",
              "      display: none;\n",
              "      fill: #1967D2;\n",
              "      height: 32px;\n",
              "      padding: 0 0 0 0;\n",
              "      width: 32px;\n",
              "    }\n",
              "\n",
              "    .colab-df-convert:hover {\n",
              "      background-color: #E2EBFA;\n",
              "      box-shadow: 0px 1px 2px rgba(60, 64, 67, 0.3), 0px 1px 3px 1px rgba(60, 64, 67, 0.15);\n",
              "      fill: #174EA6;\n",
              "    }\n",
              "\n",
              "    [theme=dark] .colab-df-convert {\n",
              "      background-color: #3B4455;\n",
              "      fill: #D2E3FC;\n",
              "    }\n",
              "\n",
              "    [theme=dark] .colab-df-convert:hover {\n",
              "      background-color: #434B5C;\n",
              "      box-shadow: 0px 1px 3px 1px rgba(0, 0, 0, 0.15);\n",
              "      filter: drop-shadow(0px 1px 2px rgba(0, 0, 0, 0.3));\n",
              "      fill: #FFFFFF;\n",
              "    }\n",
              "  </style>\n",
              "\n",
              "      <script>\n",
              "        const buttonEl =\n",
              "          document.querySelector('#df-2e19659c-64c1-4089-a6a1-6b9558247093 button.colab-df-convert');\n",
              "        buttonEl.style.display =\n",
              "          google.colab.kernel.accessAllowed ? 'block' : 'none';\n",
              "\n",
              "        async function convertToInteractive(key) {\n",
              "          const element = document.querySelector('#df-2e19659c-64c1-4089-a6a1-6b9558247093');\n",
              "          const dataTable =\n",
              "            await google.colab.kernel.invokeFunction('convertToInteractive',\n",
              "                                                     [key], {});\n",
              "          if (!dataTable) return;\n",
              "\n",
              "          const docLinkHtml = 'Like what you see? Visit the ' +\n",
              "            '<a target=\"_blank\" href=https://colab.research.google.com/notebooks/data_table.ipynb>data table notebook</a>'\n",
              "            + ' to learn more about interactive tables.';\n",
              "          element.innerHTML = '';\n",
              "          dataTable['output_type'] = 'display_data';\n",
              "          await google.colab.output.renderOutput(dataTable, element);\n",
              "          const docLink = document.createElement('div');\n",
              "          docLink.innerHTML = docLinkHtml;\n",
              "          element.appendChild(docLink);\n",
              "        }\n",
              "      </script>\n",
              "    </div>\n",
              "  </div>\n",
              "  "
            ]
          },
          "metadata": {}
        }
      ]
    },
    {
      "cell_type": "code",
      "source": [
        "!pip install pyLDAvis"
      ],
      "metadata": {
        "colab": {
          "base_uri": "https://localhost:8080/"
        },
        "id": "uswnLVCD1IFo",
        "outputId": "0636c09a-a7b6-4c12-9b4e-349ae19491eb"
      },
      "execution_count": null,
      "outputs": [
        {
          "output_type": "stream",
          "name": "stdout",
          "text": [
            "Looking in indexes: https://pypi.org/simple, https://us-python.pkg.dev/colab-wheels/public/simple/\n",
            "Requirement already satisfied: pyLDAvis in /usr/local/lib/python3.9/dist-packages (3.4.0)\n",
            "Requirement already satisfied: scikit-learn>=1.0.0 in /usr/local/lib/python3.9/dist-packages (from pyLDAvis) (1.2.2)\n",
            "Requirement already satisfied: jinja2 in /usr/local/lib/python3.9/dist-packages (from pyLDAvis) (3.1.2)\n",
            "Requirement already satisfied: gensim in /usr/local/lib/python3.9/dist-packages (from pyLDAvis) (3.6.0)\n",
            "Requirement already satisfied: funcy in /usr/local/lib/python3.9/dist-packages (from pyLDAvis) (1.18)\n",
            "Requirement already satisfied: scipy in /usr/local/lib/python3.9/dist-packages (from pyLDAvis) (1.10.1)\n",
            "Requirement already satisfied: setuptools in /usr/local/lib/python3.9/dist-packages (from pyLDAvis) (63.4.3)\n",
            "Requirement already satisfied: joblib>=1.2.0 in /usr/local/lib/python3.9/dist-packages (from pyLDAvis) (1.2.0)\n",
            "Requirement already satisfied: pandas>=1.3.4 in /usr/local/lib/python3.9/dist-packages (from pyLDAvis) (1.4.4)\n",
            "Requirement already satisfied: numexpr in /usr/local/lib/python3.9/dist-packages (from pyLDAvis) (2.8.4)\n",
            "Requirement already satisfied: numpy>=1.22.0 in /usr/local/lib/python3.9/dist-packages (from pyLDAvis) (1.22.4)\n",
            "Requirement already satisfied: pytz>=2020.1 in /usr/local/lib/python3.9/dist-packages (from pandas>=1.3.4->pyLDAvis) (2022.7.1)\n",
            "Requirement already satisfied: python-dateutil>=2.8.1 in /usr/local/lib/python3.9/dist-packages (from pandas>=1.3.4->pyLDAvis) (2.8.2)\n",
            "Requirement already satisfied: threadpoolctl>=2.0.0 in /usr/local/lib/python3.9/dist-packages (from scikit-learn>=1.0.0->pyLDAvis) (3.1.0)\n",
            "Requirement already satisfied: six>=1.5.0 in /usr/local/lib/python3.9/dist-packages (from gensim->pyLDAvis) (1.15.0)\n",
            "Requirement already satisfied: smart-open>=1.2.1 in /usr/local/lib/python3.9/dist-packages (from gensim->pyLDAvis) (6.3.0)\n",
            "Requirement already satisfied: MarkupSafe>=2.0 in /usr/local/lib/python3.9/dist-packages (from jinja2->pyLDAvis) (2.1.2)\n"
          ]
        }
      ]
    },
    {
      "cell_type": "code",
      "source": [
        "import numpy as np\n",
        "import json\n",
        "import glob\n",
        "\n",
        "#Gensim\n",
        "import gensim\n",
        "import gensim.corpora as corpora\n",
        "from gensim.utils import simple_preprocess\n",
        "from gensim.models import CoherenceModel\n",
        "\n",
        "#spacy\n",
        "import spacy\n",
        "import nltk\n",
        "from nltk.corpus import stopwords\n",
        "\n",
        "#Vis\n",
        "import pyLDAvis\n",
        "import pyLDAvis.gensim\n",
        "\n",
        "import warnings \n",
        "warnings.filterwarnings(\"ignore\",category=DeprecationWarning)"
      ],
      "metadata": {
        "id": "KxK2ka111JlM"
      },
      "execution_count": null,
      "outputs": []
    },
    {
      "cell_type": "code",
      "source": [
        "def load_data(file):\n",
        "  with open(file,\"r\",encoding=\"utf-8\") as f:\n",
        "    data=json.load(f)\n",
        "  return(data)\n",
        "\n",
        "def write_data(file,data):\n",
        "  with open(file,\"w\",encoding=\"utf-8\") as f:\n",
        "    json.dump(data,f,indent=4)"
      ],
      "metadata": {
        "id": "jAXb-8ut1Lay"
      },
      "execution_count": null,
      "outputs": []
    },
    {
      "cell_type": "code",
      "source": [
        "nltk.download(\"stopwords\")\n",
        "print(stopwords)"
      ],
      "metadata": {
        "colab": {
          "base_uri": "https://localhost:8080/"
        },
        "id": "4WDWJ5UL1NVc",
        "outputId": "8021fa10-34a4-4875-8de7-e870e983817a"
      },
      "execution_count": null,
      "outputs": [
        {
          "output_type": "stream",
          "name": "stdout",
          "text": [
            "<WordListCorpusReader in '/root/nltk_data/corpora/stopwords'>\n"
          ]
        },
        {
          "output_type": "stream",
          "name": "stderr",
          "text": [
            "[nltk_data] Downloading package stopwords to /root/nltk_data...\n",
            "[nltk_data]   Package stopwords is already up-to-date!\n"
          ]
        }
      ]
    },
    {
      "cell_type": "code",
      "source": [
        "data=load_data(\"/content/student.json\")[\"Text\"]\n",
        "data=data[\"10\"]\n",
        "data=data.split(\".\")\n",
        "data"
      ],
      "metadata": {
        "colab": {
          "base_uri": "https://localhost:8080/"
        },
        "id": "PFzqSL_T1UV3",
        "outputId": "50645a84-41a8-4755-a0eb-bf725afb1124"
      },
      "execution_count": null,
      "outputs": [
        {
          "output_type": "execute_result",
          "data": {
            "text/plain": [
              "['The first step is to get data',\n",
              " ' The teacher collects all score of students in excel',\n",
              " ' The scores are organised in the following categories: Story-telling, Story-writing, Participation, Presentation, Quiz, Listening']"
            ]
          },
          "metadata": {},
          "execution_count": 25
        }
      ]
    },
    {
      "cell_type": "code",
      "source": [
        "def lemmatization(texts,allowed_postages=[\"NOUN\",\"ADJ\",\"VERB\",\"ADV\"]):\n",
        "  nlp=spacy.load(\"en_core_web_sm\",disable=[\"senter\",\"ner\",\"parser\"])\n",
        "  texts_out=[]\n",
        "  for text in texts:\n",
        "    doc=nlp(text)\n",
        "    new_text=[]\n",
        "    for token in doc:\n",
        "      if token.pos_ in allowed_postages:\n",
        "        new_text.append(token.lemma_)\n",
        "    final=\" \".join(new_text)\n",
        "    texts_out.append(final)\n",
        "  return (texts_out)\n",
        "\n",
        "lemmatized_texts=lemmatization(data)\n",
        "lemmatized_texts"
      ],
      "metadata": {
        "colab": {
          "base_uri": "https://localhost:8080/"
        },
        "id": "USx8Jj7J1WJX",
        "outputId": "61920ec1-3ca3-4a3a-8355-059ba99660db"
      },
      "execution_count": null,
      "outputs": [
        {
          "output_type": "execute_result",
          "data": {
            "text/plain": [
              "['first step get datum',\n",
              " 'teacher collect score student',\n",
              " 'score organise follow category story telling story writing listen']"
            ]
          },
          "metadata": {},
          "execution_count": 26
        }
      ]
    },
    {
      "cell_type": "code",
      "source": [
        "def gen_words(texts):\n",
        "  final=[]\n",
        "  for text in texts:\n",
        "    new=gensim.utils.simple_preprocess(text,deacc=True)\n",
        "    final.append(new)\n",
        "  return(final)\n",
        "\n",
        "data_words=gen_words(lemmatized_texts)\n",
        "print(data_words)"
      ],
      "metadata": {
        "colab": {
          "base_uri": "https://localhost:8080/"
        },
        "id": "HBR8VMGH1Yy4",
        "outputId": "850c83e3-7dc0-42db-c612-13e75cb78f57"
      },
      "execution_count": null,
      "outputs": [
        {
          "output_type": "stream",
          "name": "stdout",
          "text": [
            "[['first', 'step', 'get', 'datum'], ['teacher', 'collect', 'score', 'student'], ['score', 'organise', 'follow', 'category', 'story', 'telling', 'story', 'writing', 'listen']]\n"
          ]
        }
      ]
    },
    {
      "cell_type": "code",
      "source": [
        "id2word=corpora.Dictionary(data_words)\n",
        "corpus=[]\n",
        "for text in data_words:\n",
        "  new = id2word.doc2bow(text)\n",
        "  corpus.append(new)\n",
        "\n",
        "print(corpus)\n",
        "\n",
        "word = id2word\n",
        "print(word)"
      ],
      "metadata": {
        "colab": {
          "base_uri": "https://localhost:8080/"
        },
        "id": "TmTQN_qq1b9F",
        "outputId": "1d347a01-058e-41be-d01b-c2dfb0ec95e6"
      },
      "execution_count": null,
      "outputs": [
        {
          "output_type": "stream",
          "name": "stdout",
          "text": [
            "[[(0, 1), (1, 1), (2, 1), (3, 1)], [(4, 1), (5, 1), (6, 1), (7, 1)], [(5, 1), (8, 1), (9, 1), (10, 1), (11, 1), (12, 2), (13, 1), (14, 1)]]\n",
            "Dictionary(15 unique tokens: ['datum', 'first', 'get', 'step', 'collect']...)\n"
          ]
        }
      ]
    },
    {
      "cell_type": "code",
      "source": [
        "lda_model= gensim.models.ldamodel.LdaModel(corpus=corpus,id2word=id2word,num_topics=30,random_state=100,update_every=1,\n",
        "                                           chunksize=100,passes=10,alpha=\"auto\")"
      ],
      "metadata": {
        "id": "uEqpVqXh1eWl"
      },
      "execution_count": null,
      "outputs": []
    },
    {
      "cell_type": "code",
      "source": [
        "pyLDAvis.enable_notebook()\n",
        "vis=pyLDAvis.gensim.prepare(lda_model,corpus,id2word,mds=\"mmds\",R=30)\n",
        "vis"
      ],
      "metadata": {
        "colab": {
          "base_uri": "https://localhost:8080/",
          "height": 951
        },
        "id": "Dnddeuhb1foH",
        "outputId": "799cef39-8905-4500-8086-bc1c60638ed0"
      },
      "execution_count": null,
      "outputs": [
        {
          "output_type": "stream",
          "name": "stderr",
          "text": [
            "/usr/local/lib/python3.9/dist-packages/pyLDAvis/_prepare.py:243: FutureWarning: In a future version of pandas all arguments of DataFrame.drop except for the argument 'labels' will be keyword-only.\n",
            "  default_term_info = default_term_info.sort_values(\n",
            "/usr/local/lib/python3.9/dist-packages/sklearn/manifold/_mds.py:299: FutureWarning: The default value of `normalized_stress` will change to `'auto'` in version 1.4. To suppress this warning, manually set the value of `normalized_stress`.\n",
            "  warnings.warn(\n"
          ]
        },
        {
          "output_type": "execute_result",
          "data": {
            "text/plain": [
              "PreparedData(topic_coordinates=              x         y  topics  cluster       Freq\n",
              "topic                                                \n",
              "26     0.045101 -0.163405       1        1  49.441507\n",
              "16     0.200548  0.151737       2        1  20.462265\n",
              "11    -0.233519  0.087891       3        1  20.462249\n",
              "0     -0.000449 -0.002823       4        1   0.356814\n",
              "28    -0.000449 -0.002823       5        1   0.356814\n",
              "27    -0.000449 -0.002823       6        1   0.356814\n",
              "25    -0.000449 -0.002823       7        1   0.356814\n",
              "24    -0.000449 -0.002823       8        1   0.356814\n",
              "23    -0.000449 -0.002823       9        1   0.356814\n",
              "22    -0.000449 -0.002823      10        1   0.356814\n",
              "21    -0.000449 -0.002823      11        1   0.356814\n",
              "20    -0.000449 -0.002823      12        1   0.356814\n",
              "19    -0.000449 -0.002823      13        1   0.356814\n",
              "18    -0.000449 -0.002823      14        1   0.356814\n",
              "17    -0.000449 -0.002823      15        1   0.356814\n",
              "15    -0.000449 -0.002823      16        1   0.356814\n",
              "1     -0.000449 -0.002823      17        1   0.356814\n",
              "14    -0.000449 -0.002823      18        1   0.356814\n",
              "13    -0.000449 -0.002823      19        1   0.356814\n",
              "12    -0.000449 -0.002823      20        1   0.356814\n",
              "10    -0.000449 -0.002823      21        1   0.356814\n",
              "9     -0.000449 -0.002823      22        1   0.356814\n",
              "8     -0.000449 -0.002823      23        1   0.356814\n",
              "7     -0.000449 -0.002823      24        1   0.356814\n",
              "6     -0.000449 -0.002823      25        1   0.356814\n",
              "5     -0.000449 -0.002823      26        1   0.356814\n",
              "4     -0.000449 -0.002823      27        1   0.356814\n",
              "3     -0.000449 -0.002823      28        1   0.356814\n",
              "2     -0.000449 -0.002823      29        1   0.356814\n",
              "29    -0.000449 -0.002823      30        1   0.356814, topic_info=        Term      Freq     Total Category  logprob  loglift\n",
              "12     story  1.000000  1.000000  Default  15.0000  15.0000\n",
              "5      score  1.000000  1.000000  Default  14.0000  14.0000\n",
              "8   category  1.000000  1.000000  Default  13.0000  13.0000\n",
              "9     follow  1.000000  1.000000  Default  12.0000  12.0000\n",
              "10    listen  1.000000  1.000000  Default  11.0000  11.0000\n",
              "..       ...       ...       ...      ...      ...      ...\n",
              "11  organise  0.004044  1.074954  Topic30  -2.7081   0.0529\n",
              "13   telling  0.004044  1.074954  Topic30  -2.7081   0.0529\n",
              "14   writing  0.004044  1.074954  Topic30  -2.7081   0.0529\n",
              "5      score  0.004044  1.847972  Topic30  -2.7081  -0.4889\n",
              "12     story  0.004044  1.959696  Topic30  -2.7081  -0.5476\n",
              "\n",
              "[465 rows x 6 columns], token_table=      Topic      Freq      Term\n",
              "term                           \n",
              "8         1  0.930273  category\n",
              "4         3  1.038174   collect\n",
              "0         2  1.038174     datum\n",
              "1         2  1.038174     first\n",
              "9         1  0.930273    follow\n",
              "2         2  1.038174       get\n",
              "10        1  0.930273    listen\n",
              "11        1  0.930273  organise\n",
              "5         1  0.541134     score\n",
              "5         3  0.541134     score\n",
              "3         2  1.038174      step\n",
              "12        1  1.020566     story\n",
              "6         3  1.038174   student\n",
              "7         3  1.038174   teacher\n",
              "13        1  0.930273   telling\n",
              "14        1  0.930273   writing, R=15, lambda_step=0.01, plot_opts={'xlab': 'PC1', 'ylab': 'PC2'}, topic_order=[27, 17, 12, 1, 29, 28, 26, 25, 24, 23, 22, 21, 20, 19, 18, 16, 2, 15, 14, 13, 11, 10, 9, 8, 7, 6, 5, 4, 3, 30])"
            ],
            "text/html": [
              "\n",
              "<link rel=\"stylesheet\" type=\"text/css\" href=\"https://cdn.jsdelivr.net/gh/bmabey/pyLDAvis@3.4.0/pyLDAvis/js/ldavis.v1.0.0.css\">\n",
              "\n",
              "\n",
              "<div id=\"ldavis_el1271400005067856801359557986\" style=\"background-color:white;\"></div>\n",
              "<script type=\"text/javascript\">\n",
              "\n",
              "var ldavis_el1271400005067856801359557986_data = {\"mdsDat\": {\"x\": [0.045101394635140596, 0.2005481321079711, -0.2335190626437169, -0.0004492764481257257, -0.0004492764481257257, -0.0004492764481257257, -0.0004492764481257257, -0.0004492764481257257, -0.0004492764481257257, -0.0004492764481257257, -0.0004492764481257257, -0.0004492764481257257, -0.0004492764481257257, -0.0004492764481257257, -0.0004492764481257257, -0.0004492764481257257, -0.0004492764481257257, -0.0004492764481257257, -0.0004492764481257257, -0.0004492764481257257, -0.0004492764481257257, -0.0004492764481257257, -0.0004492764481257257, -0.0004492764481257257, -0.0004492764481257257, -0.0004492764481257257, -0.0004492764481257257, -0.0004492764481257257, -0.0004492764481257257, -0.0004492764481257257], \"y\": [-0.16340512225695375, 0.15173730281784548, 0.08789053723928797, -0.0028230636222288824, -0.0028230636222288824, -0.0028230636222288824, -0.0028230636222288824, -0.0028230636222288824, -0.0028230636222288824, -0.0028230636222288824, -0.0028230636222288824, -0.0028230636222288824, -0.0028230636222288824, -0.0028230636222288824, -0.0028230636222288824, -0.0028230636222288824, -0.0028230636222288824, -0.0028230636222288824, -0.0028230636222288824, -0.0028230636222288824, -0.0028230636222288824, -0.0028230636222288824, -0.0028230636222288824, -0.0028230636222288824, -0.0028230636222288824, -0.0028230636222288824, -0.0028230636222288824, -0.0028230636222288824, -0.0028230636222288824, -0.0028230636222288824], \"topics\": [1, 2, 3, 4, 5, 6, 7, 8, 9, 10, 11, 12, 13, 14, 15, 16, 17, 18, 19, 20, 21, 22, 23, 24, 25, 26, 27, 28, 29, 30], \"cluster\": [1, 1, 1, 1, 1, 1, 1, 1, 1, 1, 1, 1, 1, 1, 1, 1, 1, 1, 1, 1, 1, 1, 1, 1, 1, 1, 1, 1, 1, 1], \"Freq\": [49.44150671200167, 20.462265488679726, 20.462248511215584, 0.35681404770751934, 0.35681404770751934, 0.35681404770751934, 0.35681404770751934, 0.35681404770751934, 0.35681404770751934, 0.35681404770751934, 0.35681404770751934, 0.35681404770751934, 0.35681404770751934, 0.35681404770751934, 0.35681404770751934, 0.35681404770751934, 0.35681404770751934, 0.35681404770751934, 0.35681404770751934, 0.35681404770751934, 0.35681404770751934, 0.35681404770751934, 0.35681404770751934, 0.35681404770751934, 0.35681404770751934, 0.35681404770751934, 0.35681404770751934, 0.35681404770751934, 0.35681404770751934, 0.35681404770751934]}, \"tinfo\": {\"Term\": [\"story\", \"score\", \"category\", \"follow\", \"listen\", \"organise\", \"telling\", \"writing\", \"datum\", \"first\", \"get\", \"step\", \"collect\", \"student\", \"teacher\", \"story\", \"category\", \"follow\", \"listen\", \"organise\", \"telling\", \"writing\", \"score\", \"collect\", \"student\", \"teacher\", \"datum\", \"first\", \"get\", \"step\", \"datum\", \"first\", \"get\", \"step\", \"collect\", \"student\", \"teacher\", \"category\", \"follow\", \"listen\", \"organise\", \"telling\", \"writing\", \"score\", \"story\", \"collect\", \"student\", \"teacher\", \"score\", \"datum\", \"first\", \"get\", \"step\", \"category\", \"follow\", \"listen\", \"organise\", \"telling\", \"writing\", \"story\", \"collect\", \"student\", \"teacher\", \"datum\", \"first\", \"get\", \"step\", \"category\", \"follow\", \"listen\", \"organise\", \"telling\", \"writing\", \"score\", \"story\", \"collect\", \"student\", \"teacher\", \"datum\", \"first\", \"get\", \"step\", \"category\", \"follow\", \"listen\", \"organise\", \"telling\", \"writing\", \"score\", \"story\", \"collect\", \"student\", \"teacher\", \"datum\", \"first\", \"get\", \"step\", \"category\", \"follow\", \"listen\", \"organise\", \"telling\", \"writing\", \"score\", \"story\", \"collect\", \"student\", \"teacher\", \"datum\", \"first\", \"get\", \"step\", \"category\", \"follow\", \"listen\", \"organise\", \"telling\", \"writing\", \"score\", \"story\", \"collect\", \"student\", \"teacher\", \"datum\", \"first\", \"get\", \"step\", \"category\", \"follow\", \"listen\", \"organise\", \"telling\", \"writing\", \"score\", \"story\", \"collect\", \"student\", \"teacher\", \"datum\", \"first\", \"get\", \"step\", \"category\", \"follow\", \"listen\", \"organise\", \"telling\", \"writing\", \"score\", \"story\", \"collect\", \"student\", \"teacher\", \"datum\", \"first\", \"get\", \"step\", \"category\", \"follow\", \"listen\", \"organise\", \"telling\", \"writing\", \"score\", \"story\", \"collect\", \"student\", \"teacher\", \"datum\", \"first\", \"get\", \"step\", \"category\", \"follow\", \"listen\", \"organise\", \"telling\", \"writing\", \"score\", \"story\", \"collect\", \"student\", \"teacher\", \"datum\", \"first\", \"get\", \"step\", \"category\", \"follow\", \"listen\", \"organise\", \"telling\", \"writing\", \"score\", \"story\", \"collect\", \"student\", \"teacher\", \"datum\", \"first\", \"get\", \"step\", \"category\", \"follow\", \"listen\", \"organise\", \"telling\", \"writing\", \"score\", \"story\", \"collect\", \"student\", \"teacher\", \"datum\", \"first\", \"get\", \"step\", \"category\", \"follow\", \"listen\", \"organise\", \"telling\", \"writing\", \"score\", \"story\", \"collect\", \"student\", \"teacher\", \"datum\", \"first\", \"get\", \"step\", \"category\", \"follow\", \"listen\", \"organise\", \"telling\", \"writing\", \"score\", \"story\", \"collect\", \"student\", \"teacher\", \"datum\", \"first\", \"get\", \"step\", \"category\", \"follow\", \"listen\", \"organise\", \"telling\", \"writing\", \"score\", \"story\", \"collect\", \"student\", \"teacher\", \"datum\", \"first\", \"get\", \"step\", \"category\", \"follow\", \"listen\", \"organise\", \"telling\", \"writing\", \"score\", \"story\", \"collect\", \"student\", \"teacher\", \"datum\", \"first\", \"get\", \"step\", \"category\", \"follow\", \"listen\", \"organise\", \"telling\", \"writing\", \"score\", \"story\", \"collect\", \"student\", \"teacher\", \"datum\", \"first\", \"get\", \"step\", \"category\", \"follow\", \"listen\", \"organise\", \"telling\", \"writing\", \"score\", \"story\", \"collect\", \"student\", \"teacher\", \"datum\", \"first\", \"get\", \"step\", \"category\", \"follow\", \"listen\", \"organise\", \"telling\", \"writing\", \"score\", \"story\", \"collect\", \"student\", \"teacher\", \"datum\", \"first\", \"get\", \"step\", \"category\", \"follow\", \"listen\", \"organise\", \"telling\", \"writing\", \"score\", \"story\", \"collect\", \"student\", \"teacher\", \"datum\", \"first\", \"get\", \"step\", \"category\", \"follow\", \"listen\", \"organise\", \"telling\", \"writing\", \"score\", \"story\", \"collect\", \"student\", \"teacher\", \"datum\", \"first\", \"get\", \"step\", \"category\", \"follow\", \"listen\", \"organise\", \"telling\", \"writing\", \"score\", \"story\", \"collect\", \"student\", \"teacher\", \"datum\", \"first\", \"get\", \"step\", \"category\", \"follow\", \"listen\", \"organise\", \"telling\", \"writing\", \"score\", \"story\", \"collect\", \"student\", \"teacher\", \"datum\", \"first\", \"get\", \"step\", \"category\", \"follow\", \"listen\", \"organise\", \"telling\", \"writing\", \"score\", \"story\", \"collect\", \"student\", \"teacher\", \"datum\", \"first\", \"get\", \"step\", \"category\", \"follow\", \"listen\", \"organise\", \"telling\", \"writing\", \"score\", \"story\", \"collect\", \"student\", \"teacher\", \"datum\", \"first\", \"get\", \"step\", \"category\", \"follow\", \"listen\", \"organise\", \"telling\", \"writing\", \"score\", \"story\", \"collect\", \"student\", \"teacher\", \"datum\", \"first\", \"get\", \"step\", \"category\", \"follow\", \"listen\", \"organise\", \"telling\", \"writing\", \"score\", \"story\", \"collect\", \"student\", \"teacher\", \"datum\", \"first\", \"get\", \"step\", \"category\", \"follow\", \"listen\", \"organise\", \"telling\", \"writing\", \"score\", \"story\", \"collect\", \"student\", \"teacher\", \"datum\", \"first\", \"get\", \"step\", \"category\", \"follow\", \"listen\", \"organise\", \"telling\", \"writing\", \"score\", \"story\"], \"Freq\": [1.0, 1.0, 1.0, 1.0, 1.0, 1.0, 1.0, 1.0, 0.0, 0.0, 0.0, 0.0, 0.0, 0.0, 0.0, 1.798976701134424, 0.9142340807376306, 0.9142340807376306, 0.9142340807376306, 0.9142340807376306, 0.9142340807376306, 0.9142340807376306, 0.9142339554925447, 0.02949142315870211, 0.02949142315870211, 0.02949142315870211, 0.02949142315870211, 0.02949142315870211, 0.02949142315870211, 0.02949142315870211, 0.7987862211310979, 0.7987862211310979, 0.7987862211310979, 0.7987862211310979, 0.025767299493707978, 0.025767299493707978, 0.025767299493707978, 0.025767299493707978, 0.025767299493707978, 0.025767299493707978, 0.025767299493707978, 0.025767299493707978, 0.025767299493707978, 0.025767299493707978, 0.025767299493707978, 0.7987855583811968, 0.7987855583811968, 0.7987855583811968, 0.7987855583811968, 0.02576727811467722, 0.02576727811467722, 0.02576727811467722, 0.02576727811467722, 0.02576727811467722, 0.02576727811467722, 0.02576727811467722, 0.02576727811467722, 0.02576727811467722, 0.02576727811467722, 0.02576727811467722, 0.004043892407595456, 0.004043892407595456, 0.004043892407595456, 0.004043892407595456, 0.004043892407595456, 0.004043892407595456, 0.004043892407595456, 0.004043892407595456, 0.004043892407595456, 0.004043892407595456, 0.004043892407595456, 0.004043892407595456, 0.004043892407595456, 0.004043892407595456, 0.004043892407595456, 0.004043892407595456, 0.004043892407595456, 0.004043892407595456, 0.004043892407595456, 0.004043892407595456, 0.004043892407595456, 0.004043892407595456, 0.004043892407595456, 0.004043892407595456, 0.004043892407595456, 0.004043892407595456, 0.004043892407595456, 0.004043892407595456, 0.004043892407595456, 0.004043892407595456, 0.004043892407595456, 0.004043892407595456, 0.004043892407595456, 0.004043892407595456, 0.004043892407595456, 0.004043892407595456, 0.004043892407595456, 0.004043892407595456, 0.004043892407595456, 0.004043892407595456, 0.004043892407595456, 0.004043892407595456, 0.004043892407595456, 0.004043892407595456, 0.004043892407595456, 0.004043892407595456, 0.004043892407595456, 0.004043892407595456, 0.004043892407595456, 0.004043892407595456, 0.004043892407595456, 0.004043892407595456, 0.004043892407595456, 0.004043892407595456, 0.004043892407595456, 0.004043892407595456, 0.004043892407595456, 0.004043892407595456, 0.004043892407595456, 0.004043892407595456, 0.004043892407595456, 0.004043892407595456, 0.004043892407595456, 0.004043892407595456, 0.004043892407595456, 0.004043892407595456, 0.004043892407595456, 0.004043892407595456, 0.004043892407595456, 0.004043892407595456, 0.004043892407595456, 0.004043892407595456, 0.004043892407595456, 0.004043892407595456, 0.004043892407595456, 0.004043892407595456, 0.004043892407595456, 0.004043892407595456, 0.004043892407595456, 0.004043892407595456, 0.004043892407595456, 0.004043892407595456, 0.004043892407595456, 0.004043892407595456, 0.004043892407595456, 0.004043892407595456, 0.004043892407595456, 0.004043892407595456, 0.004043892407595456, 0.004043892407595456, 0.004043892407595456, 0.004043892407595456, 0.004043892407595456, 0.004043892407595456, 0.004043892407595456, 0.004043892407595456, 0.004043892407595456, 0.004043892407595456, 0.004043892407595456, 0.004043892407595456, 0.004043892407595456, 0.004043892407595456, 0.004043892407595456, 0.004043892407595456, 0.004043892407595456, 0.004043892407595456, 0.004043892407595456, 0.004043892407595456, 0.004043892407595456, 0.004043892407595456, 0.004043892407595456, 0.004043892407595456, 0.004043892407595456, 0.004043892407595456, 0.004043892407595456, 0.004043892407595456, 0.004043892407595456, 0.004043892407595456, 0.004043892407595456, 0.004043892407595456, 0.004043892407595456, 0.004043892407595456, 0.004043892407595456, 0.004043892407595456, 0.004043892407595456, 0.004043892407595456, 0.004043892407595456, 0.004043892407595456, 0.004043892407595456, 0.004043892407595456, 0.004043892407595456, 0.004043892407595456, 0.004043892407595456, 0.004043892407595456, 0.004043892407595456, 0.004043892407595456, 0.004043892407595456, 0.004043892407595456, 0.004043892407595456, 0.004043892407595456, 0.004043892407595456, 0.004043892407595456, 0.004043892407595456, 0.004043892407595456, 0.004043892407595456, 0.004043892407595456, 0.004043892407595456, 0.004043892407595456, 0.004043892407595456, 0.004043892407595456, 0.004043892407595456, 0.004043892407595456, 0.004043892407595456, 0.004043892407595456, 0.004043892407595456, 0.004043892407595456, 0.004043892407595456, 0.004043892407595456, 0.004043892407595456, 0.004043892407595456, 0.004043892407595456, 0.004043892407595456, 0.004043892407595456, 0.004043892407595456, 0.004043892407595456, 0.004043892407595456, 0.004043892407595456, 0.004043892407595456, 0.004043892407595456, 0.004043892407595456, 0.004043892407595456, 0.004043892407595456, 0.004043892407595456, 0.004043892407595456, 0.004043892407595456, 0.004043892407595456, 0.004043892407595456, 0.004043892407595456, 0.004043892407595456, 0.004043892407595456, 0.004043892407595456, 0.004043892407595456, 0.004043892407595456, 0.004043892407595456, 0.004043892407595456, 0.004043892407595456, 0.004043892407595456, 0.004043892407595456, 0.004043892407595456, 0.004043892407595456, 0.004043892407595456, 0.004043892407595456, 0.004043892407595456, 0.004043892407595456, 0.004043892407595456, 0.004043892407595456, 0.004043892407595456, 0.004043892407595456, 0.004043892407595456, 0.004043892407595456, 0.004043892407595456, 0.004043892407595456, 0.004043892407595456, 0.004043892407595456, 0.004043892407595456, 0.004043892407595456, 0.004043892407595456, 0.004043892407595456, 0.004043892407595456, 0.004043892407595456, 0.004043892407595456, 0.004043892407595456, 0.004043892407595456, 0.004043892407595456, 0.004043892407595456, 0.004043892407595456, 0.004043892407595456, 0.004043892407595456, 0.004043892407595456, 0.004043892407595456, 0.004043892407595456, 0.004043892407595456, 0.004043892407595456, 0.004043892407595456, 0.004043892407595456, 0.004043892407595456, 0.004043892407595456, 0.004043892407595456, 0.004043892407595456, 0.004043892407595456, 0.004043892407595456, 0.004043892407595456, 0.004043892407595456, 0.004043892407595456, 0.004043892407595456, 0.004043892407595456, 0.004043892407595456, 0.004043892407595456, 0.004043892407595456, 0.004043892407595456, 0.004043892407595456, 0.004043892407595456, 0.004043892407595456, 0.004043892407595456, 0.004043892407595456, 0.004043892407595456, 0.004043892407595456, 0.004043892407595456, 0.004043892407595456, 0.004043892407595456, 0.004043892407595456, 0.004043892407595456, 0.004043892407595456, 0.004043892407595456, 0.004043892407595456, 0.004043892407595456, 0.004043892407595456, 0.004043892407595456, 0.004043892407595456, 0.004043892407595456, 0.004043892407595456, 0.004043892407595456, 0.004043892407595456, 0.004043892407595456, 0.004043892407595456, 0.004043892407595456, 0.004043892407595456, 0.004043892407595456, 0.004043892407595456, 0.004043892407595456, 0.004043892407595456, 0.004043892407595456, 0.004043892407595456, 0.004043892407595456, 0.004043892407595456, 0.004043892407595456, 0.004043892407595456, 0.004043892407595456, 0.004043892407595456, 0.004043892407595456, 0.004043892407595456, 0.004043892407595456, 0.004043892407595456, 0.004043892407595456, 0.004043892407595456, 0.004043892407595456, 0.004043892407595456, 0.004043892407595456, 0.004043892407595456, 0.004043892407595456, 0.004043892407595456, 0.004043892407595456, 0.004043892407595456, 0.004043892407595456, 0.004043892407595456, 0.004043892407595456, 0.004043892407595456, 0.004043892407595456, 0.004043892407595456, 0.004043892407595456, 0.004043892407595456, 0.004043892407595456, 0.004043892407595456, 0.004043892407595456, 0.004043892407595456, 0.004043892407595456, 0.004043892407595456, 0.004043892407595456, 0.004043892407595456, 0.004043892407595456, 0.004043892407595456, 0.004043892407595456, 0.004043892407595456, 0.004043892407595456, 0.004043892407595456, 0.004043892407595456, 0.004043892407595456, 0.004043892407595456, 0.004043892407595456, 0.004043892407595456, 0.004043892407595456, 0.004043892407595456, 0.004043892407595456, 0.004043892407595456, 0.004043892407595456, 0.004043892407595456, 0.004043892407595456, 0.004043892407595456, 0.004043892407595456, 0.004043892407595456, 0.004043892407595456, 0.004043892407595456, 0.004043892407595456, 0.004043892407595456, 0.004043892407595456, 0.004043892407595456, 0.004043892407595456, 0.004043892407595456, 0.004043892407595456, 0.004043892407595456, 0.004043892407595456, 0.004043892407595456, 0.004043892407595456, 0.004043892407595456, 0.004043892407595456, 0.004043892407595456, 0.004043892407595456, 0.004043892407595456, 0.004043892407595456, 0.004043892407595456, 0.004043892407595456, 0.004043892407595456, 0.004043892407595456, 0.004043892407595456, 0.004043892407595456, 0.004043892407595456, 0.004043892407595456, 0.004043892407595456, 0.004043892407595456, 0.004043892407595456, 0.004043892407595456, 0.004043892407595456, 0.004043892407595456, 0.004043892407595456, 0.004043892407595456, 0.004043892407595456, 0.004043892407595456, 0.004043892407595456, 0.004043892407595456, 0.004043892407595456, 0.004043892407595456, 0.004043892407595456, 0.004043892407595456, 0.004043892407595456, 0.004043892407595456, 0.004043892407595456, 0.004043892407595456, 0.004043892407595456, 0.004043892407595456, 0.004043892407595456, 0.004043892407595456, 0.004043892407595456, 0.004043892407595456, 0.004043892407595456, 0.004043892407595456, 0.004043892407595456, 0.004043892407595456, 0.004043892407595456, 0.004043892407595456, 0.004043892407595456, 0.004043892407595456, 0.004043892407595456, 0.004043892407595456, 0.004043892407595456, 0.004043892407595456, 0.004043892407595456, 0.004043892407595456, 0.004043892407595456, 0.004043892407595456, 0.004043892407595456, 0.004043892407595456, 0.004043892407595456, 0.004043892407595456, 0.004043892407595456, 0.004043892407595456], \"Total\": [1.0, 1.0, 1.0, 1.0, 1.0, 1.0, 1.0, 1.0, 0.0, 0.0, 0.0, 0.0, 0.0, 0.0, 0.0, 1.9596963737478847, 1.0749537533510924, 1.0749537533510924, 1.0749537533510924, 1.0749537533510924, 1.0749537533510924, 1.0749537533510924, 1.8479719083725252, 0.9632293760386855, 0.9632293760386855, 0.9632293760386855, 0.9632300174095559, 0.9632300174095559, 0.9632300174095559, 0.9632300174095559, 0.9632300174095559, 0.9632300174095559, 0.9632300174095559, 0.9632300174095559, 0.9632293760386855, 0.9632293760386855, 0.9632293760386855, 1.0749537533510924, 1.0749537533510924, 1.0749537533510924, 1.0749537533510924, 1.0749537533510924, 1.0749537533510924, 1.8479719083725252, 1.9596963737478847, 0.9632293760386855, 0.9632293760386855, 0.9632293760386855, 1.8479719083725252, 0.9632300174095559, 0.9632300174095559, 0.9632300174095559, 0.9632300174095559, 1.0749537533510924, 1.0749537533510924, 1.0749537533510924, 1.0749537533510924, 1.0749537533510924, 1.0749537533510924, 1.9596963737478847, 0.9632293760386855, 0.9632293760386855, 0.9632293760386855, 0.9632300174095559, 0.9632300174095559, 0.9632300174095559, 0.9632300174095559, 1.0749537533510924, 1.0749537533510924, 1.0749537533510924, 1.0749537533510924, 1.0749537533510924, 1.0749537533510924, 1.8479719083725252, 1.9596963737478847, 0.9632293760386855, 0.9632293760386855, 0.9632293760386855, 0.9632300174095559, 0.9632300174095559, 0.9632300174095559, 0.9632300174095559, 1.0749537533510924, 1.0749537533510924, 1.0749537533510924, 1.0749537533510924, 1.0749537533510924, 1.0749537533510924, 1.8479719083725252, 1.9596963737478847, 0.9632293760386855, 0.9632293760386855, 0.9632293760386855, 0.9632300174095559, 0.9632300174095559, 0.9632300174095559, 0.9632300174095559, 1.0749537533510924, 1.0749537533510924, 1.0749537533510924, 1.0749537533510924, 1.0749537533510924, 1.0749537533510924, 1.8479719083725252, 1.9596963737478847, 0.9632293760386855, 0.9632293760386855, 0.9632293760386855, 0.9632300174095559, 0.9632300174095559, 0.9632300174095559, 0.9632300174095559, 1.0749537533510924, 1.0749537533510924, 1.0749537533510924, 1.0749537533510924, 1.0749537533510924, 1.0749537533510924, 1.8479719083725252, 1.9596963737478847, 0.9632293760386855, 0.9632293760386855, 0.9632293760386855, 0.9632300174095559, 0.9632300174095559, 0.9632300174095559, 0.9632300174095559, 1.0749537533510924, 1.0749537533510924, 1.0749537533510924, 1.0749537533510924, 1.0749537533510924, 1.0749537533510924, 1.8479719083725252, 1.9596963737478847, 0.9632293760386855, 0.9632293760386855, 0.9632293760386855, 0.9632300174095559, 0.9632300174095559, 0.9632300174095559, 0.9632300174095559, 1.0749537533510924, 1.0749537533510924, 1.0749537533510924, 1.0749537533510924, 1.0749537533510924, 1.0749537533510924, 1.8479719083725252, 1.9596963737478847, 0.9632293760386855, 0.9632293760386855, 0.9632293760386855, 0.9632300174095559, 0.9632300174095559, 0.9632300174095559, 0.9632300174095559, 1.0749537533510924, 1.0749537533510924, 1.0749537533510924, 1.0749537533510924, 1.0749537533510924, 1.0749537533510924, 1.8479719083725252, 1.9596963737478847, 0.9632293760386855, 0.9632293760386855, 0.9632293760386855, 0.9632300174095559, 0.9632300174095559, 0.9632300174095559, 0.9632300174095559, 1.0749537533510924, 1.0749537533510924, 1.0749537533510924, 1.0749537533510924, 1.0749537533510924, 1.0749537533510924, 1.8479719083725252, 1.9596963737478847, 0.9632293760386855, 0.9632293760386855, 0.9632293760386855, 0.9632300174095559, 0.9632300174095559, 0.9632300174095559, 0.9632300174095559, 1.0749537533510924, 1.0749537533510924, 1.0749537533510924, 1.0749537533510924, 1.0749537533510924, 1.0749537533510924, 1.8479719083725252, 1.9596963737478847, 0.9632293760386855, 0.9632293760386855, 0.9632293760386855, 0.9632300174095559, 0.9632300174095559, 0.9632300174095559, 0.9632300174095559, 1.0749537533510924, 1.0749537533510924, 1.0749537533510924, 1.0749537533510924, 1.0749537533510924, 1.0749537533510924, 1.8479719083725252, 1.9596963737478847, 0.9632293760386855, 0.9632293760386855, 0.9632293760386855, 0.9632300174095559, 0.9632300174095559, 0.9632300174095559, 0.9632300174095559, 1.0749537533510924, 1.0749537533510924, 1.0749537533510924, 1.0749537533510924, 1.0749537533510924, 1.0749537533510924, 1.8479719083725252, 1.9596963737478847, 0.9632293760386855, 0.9632293760386855, 0.9632293760386855, 0.9632300174095559, 0.9632300174095559, 0.9632300174095559, 0.9632300174095559, 1.0749537533510924, 1.0749537533510924, 1.0749537533510924, 1.0749537533510924, 1.0749537533510924, 1.0749537533510924, 1.8479719083725252, 1.9596963737478847, 0.9632293760386855, 0.9632293760386855, 0.9632293760386855, 0.9632300174095559, 0.9632300174095559, 0.9632300174095559, 0.9632300174095559, 1.0749537533510924, 1.0749537533510924, 1.0749537533510924, 1.0749537533510924, 1.0749537533510924, 1.0749537533510924, 1.8479719083725252, 1.9596963737478847, 0.9632293760386855, 0.9632293760386855, 0.9632293760386855, 0.9632300174095559, 0.9632300174095559, 0.9632300174095559, 0.9632300174095559, 1.0749537533510924, 1.0749537533510924, 1.0749537533510924, 1.0749537533510924, 1.0749537533510924, 1.0749537533510924, 1.8479719083725252, 1.9596963737478847, 0.9632293760386855, 0.9632293760386855, 0.9632293760386855, 0.9632300174095559, 0.9632300174095559, 0.9632300174095559, 0.9632300174095559, 1.0749537533510924, 1.0749537533510924, 1.0749537533510924, 1.0749537533510924, 1.0749537533510924, 1.0749537533510924, 1.8479719083725252, 1.9596963737478847, 0.9632293760386855, 0.9632293760386855, 0.9632293760386855, 0.9632300174095559, 0.9632300174095559, 0.9632300174095559, 0.9632300174095559, 1.0749537533510924, 1.0749537533510924, 1.0749537533510924, 1.0749537533510924, 1.0749537533510924, 1.0749537533510924, 1.8479719083725252, 1.9596963737478847, 0.9632293760386855, 0.9632293760386855, 0.9632293760386855, 0.9632300174095559, 0.9632300174095559, 0.9632300174095559, 0.9632300174095559, 1.0749537533510924, 1.0749537533510924, 1.0749537533510924, 1.0749537533510924, 1.0749537533510924, 1.0749537533510924, 1.8479719083725252, 1.9596963737478847, 0.9632293760386855, 0.9632293760386855, 0.9632293760386855, 0.9632300174095559, 0.9632300174095559, 0.9632300174095559, 0.9632300174095559, 1.0749537533510924, 1.0749537533510924, 1.0749537533510924, 1.0749537533510924, 1.0749537533510924, 1.0749537533510924, 1.8479719083725252, 1.9596963737478847, 0.9632293760386855, 0.9632293760386855, 0.9632293760386855, 0.9632300174095559, 0.9632300174095559, 0.9632300174095559, 0.9632300174095559, 1.0749537533510924, 1.0749537533510924, 1.0749537533510924, 1.0749537533510924, 1.0749537533510924, 1.0749537533510924, 1.8479719083725252, 1.9596963737478847, 0.9632293760386855, 0.9632293760386855, 0.9632293760386855, 0.9632300174095559, 0.9632300174095559, 0.9632300174095559, 0.9632300174095559, 1.0749537533510924, 1.0749537533510924, 1.0749537533510924, 1.0749537533510924, 1.0749537533510924, 1.0749537533510924, 1.8479719083725252, 1.9596963737478847, 0.9632293760386855, 0.9632293760386855, 0.9632293760386855, 0.9632300174095559, 0.9632300174095559, 0.9632300174095559, 0.9632300174095559, 1.0749537533510924, 1.0749537533510924, 1.0749537533510924, 1.0749537533510924, 1.0749537533510924, 1.0749537533510924, 1.8479719083725252, 1.9596963737478847, 0.9632293760386855, 0.9632293760386855, 0.9632293760386855, 0.9632300174095559, 0.9632300174095559, 0.9632300174095559, 0.9632300174095559, 1.0749537533510924, 1.0749537533510924, 1.0749537533510924, 1.0749537533510924, 1.0749537533510924, 1.0749537533510924, 1.8479719083725252, 1.9596963737478847, 0.9632293760386855, 0.9632293760386855, 0.9632293760386855, 0.9632300174095559, 0.9632300174095559, 0.9632300174095559, 0.9632300174095559, 1.0749537533510924, 1.0749537533510924, 1.0749537533510924, 1.0749537533510924, 1.0749537533510924, 1.0749537533510924, 1.8479719083725252, 1.9596963737478847, 0.9632293760386855, 0.9632293760386855, 0.9632293760386855, 0.9632300174095559, 0.9632300174095559, 0.9632300174095559, 0.9632300174095559, 1.0749537533510924, 1.0749537533510924, 1.0749537533510924, 1.0749537533510924, 1.0749537533510924, 1.0749537533510924, 1.8479719083725252, 1.9596963737478847, 0.9632293760386855, 0.9632293760386855, 0.9632293760386855, 0.9632300174095559, 0.9632300174095559, 0.9632300174095559, 0.9632300174095559, 1.0749537533510924, 1.0749537533510924, 1.0749537533510924, 1.0749537533510924, 1.0749537533510924, 1.0749537533510924, 1.8479719083725252, 1.9596963737478847, 0.9632293760386855, 0.9632293760386855, 0.9632293760386855, 0.9632300174095559, 0.9632300174095559, 0.9632300174095559, 0.9632300174095559, 1.0749537533510924, 1.0749537533510924, 1.0749537533510924, 1.0749537533510924, 1.0749537533510924, 1.0749537533510924, 1.8479719083725252, 1.9596963737478847, 0.9632293760386855, 0.9632293760386855, 0.9632293760386855, 0.9632300174095559, 0.9632300174095559, 0.9632300174095559, 0.9632300174095559, 1.0749537533510924, 1.0749537533510924, 1.0749537533510924, 1.0749537533510924, 1.0749537533510924, 1.0749537533510924, 1.8479719083725252, 1.9596963737478847], \"Category\": [\"Default\", \"Default\", \"Default\", \"Default\", \"Default\", \"Default\", \"Default\", \"Default\", \"Default\", \"Default\", \"Default\", \"Default\", \"Default\", \"Default\", \"Default\", \"Topic1\", \"Topic1\", \"Topic1\", \"Topic1\", \"Topic1\", \"Topic1\", \"Topic1\", \"Topic1\", \"Topic1\", \"Topic1\", \"Topic1\", \"Topic1\", \"Topic1\", \"Topic1\", \"Topic1\", \"Topic2\", \"Topic2\", \"Topic2\", \"Topic2\", \"Topic2\", \"Topic2\", \"Topic2\", \"Topic2\", \"Topic2\", \"Topic2\", \"Topic2\", \"Topic2\", \"Topic2\", \"Topic2\", \"Topic2\", \"Topic3\", \"Topic3\", \"Topic3\", \"Topic3\", \"Topic3\", \"Topic3\", \"Topic3\", \"Topic3\", \"Topic3\", \"Topic3\", \"Topic3\", \"Topic3\", \"Topic3\", \"Topic3\", \"Topic3\", \"Topic4\", \"Topic4\", \"Topic4\", \"Topic4\", \"Topic4\", \"Topic4\", \"Topic4\", \"Topic4\", \"Topic4\", \"Topic4\", \"Topic4\", \"Topic4\", \"Topic4\", \"Topic4\", \"Topic4\", \"Topic5\", \"Topic5\", \"Topic5\", \"Topic5\", \"Topic5\", \"Topic5\", \"Topic5\", \"Topic5\", \"Topic5\", \"Topic5\", \"Topic5\", \"Topic5\", \"Topic5\", \"Topic5\", \"Topic5\", \"Topic6\", \"Topic6\", \"Topic6\", \"Topic6\", \"Topic6\", \"Topic6\", \"Topic6\", \"Topic6\", \"Topic6\", \"Topic6\", \"Topic6\", \"Topic6\", \"Topic6\", \"Topic6\", \"Topic6\", \"Topic7\", \"Topic7\", \"Topic7\", \"Topic7\", \"Topic7\", \"Topic7\", \"Topic7\", \"Topic7\", \"Topic7\", \"Topic7\", \"Topic7\", \"Topic7\", \"Topic7\", \"Topic7\", \"Topic7\", \"Topic8\", \"Topic8\", \"Topic8\", \"Topic8\", \"Topic8\", \"Topic8\", \"Topic8\", \"Topic8\", \"Topic8\", \"Topic8\", \"Topic8\", \"Topic8\", \"Topic8\", \"Topic8\", \"Topic8\", \"Topic9\", \"Topic9\", \"Topic9\", \"Topic9\", \"Topic9\", \"Topic9\", \"Topic9\", \"Topic9\", \"Topic9\", \"Topic9\", \"Topic9\", \"Topic9\", \"Topic9\", \"Topic9\", \"Topic9\", \"Topic10\", \"Topic10\", \"Topic10\", \"Topic10\", \"Topic10\", \"Topic10\", \"Topic10\", \"Topic10\", \"Topic10\", \"Topic10\", \"Topic10\", \"Topic10\", \"Topic10\", \"Topic10\", \"Topic10\", \"Topic11\", \"Topic11\", \"Topic11\", \"Topic11\", \"Topic11\", \"Topic11\", \"Topic11\", \"Topic11\", \"Topic11\", \"Topic11\", \"Topic11\", \"Topic11\", \"Topic11\", \"Topic11\", \"Topic11\", \"Topic12\", \"Topic12\", \"Topic12\", \"Topic12\", \"Topic12\", \"Topic12\", \"Topic12\", \"Topic12\", \"Topic12\", \"Topic12\", \"Topic12\", \"Topic12\", \"Topic12\", \"Topic12\", \"Topic12\", \"Topic13\", \"Topic13\", \"Topic13\", \"Topic13\", \"Topic13\", \"Topic13\", \"Topic13\", \"Topic13\", \"Topic13\", \"Topic13\", \"Topic13\", \"Topic13\", \"Topic13\", \"Topic13\", \"Topic13\", \"Topic14\", \"Topic14\", \"Topic14\", \"Topic14\", \"Topic14\", \"Topic14\", \"Topic14\", \"Topic14\", \"Topic14\", \"Topic14\", \"Topic14\", \"Topic14\", \"Topic14\", \"Topic14\", \"Topic14\", \"Topic15\", \"Topic15\", \"Topic15\", \"Topic15\", \"Topic15\", \"Topic15\", \"Topic15\", \"Topic15\", \"Topic15\", \"Topic15\", \"Topic15\", \"Topic15\", \"Topic15\", \"Topic15\", \"Topic15\", \"Topic16\", \"Topic16\", \"Topic16\", \"Topic16\", \"Topic16\", \"Topic16\", \"Topic16\", \"Topic16\", \"Topic16\", \"Topic16\", \"Topic16\", \"Topic16\", \"Topic16\", \"Topic16\", \"Topic16\", \"Topic17\", \"Topic17\", \"Topic17\", \"Topic17\", \"Topic17\", \"Topic17\", \"Topic17\", \"Topic17\", \"Topic17\", \"Topic17\", \"Topic17\", \"Topic17\", \"Topic17\", \"Topic17\", \"Topic17\", \"Topic18\", \"Topic18\", \"Topic18\", \"Topic18\", \"Topic18\", \"Topic18\", \"Topic18\", \"Topic18\", \"Topic18\", \"Topic18\", \"Topic18\", \"Topic18\", \"Topic18\", \"Topic18\", \"Topic18\", \"Topic19\", \"Topic19\", \"Topic19\", \"Topic19\", \"Topic19\", \"Topic19\", \"Topic19\", \"Topic19\", \"Topic19\", \"Topic19\", \"Topic19\", \"Topic19\", \"Topic19\", \"Topic19\", \"Topic19\", \"Topic20\", \"Topic20\", \"Topic20\", \"Topic20\", \"Topic20\", \"Topic20\", \"Topic20\", \"Topic20\", \"Topic20\", \"Topic20\", \"Topic20\", \"Topic20\", \"Topic20\", \"Topic20\", \"Topic20\", \"Topic21\", \"Topic21\", \"Topic21\", \"Topic21\", \"Topic21\", \"Topic21\", \"Topic21\", \"Topic21\", \"Topic21\", \"Topic21\", \"Topic21\", \"Topic21\", \"Topic21\", \"Topic21\", \"Topic21\", \"Topic22\", \"Topic22\", \"Topic22\", \"Topic22\", \"Topic22\", \"Topic22\", \"Topic22\", \"Topic22\", \"Topic22\", \"Topic22\", \"Topic22\", \"Topic22\", \"Topic22\", \"Topic22\", \"Topic22\", \"Topic23\", \"Topic23\", \"Topic23\", \"Topic23\", \"Topic23\", \"Topic23\", \"Topic23\", \"Topic23\", \"Topic23\", \"Topic23\", \"Topic23\", \"Topic23\", \"Topic23\", \"Topic23\", \"Topic23\", \"Topic24\", \"Topic24\", \"Topic24\", \"Topic24\", \"Topic24\", \"Topic24\", \"Topic24\", \"Topic24\", \"Topic24\", \"Topic24\", \"Topic24\", \"Topic24\", \"Topic24\", \"Topic24\", \"Topic24\", \"Topic25\", \"Topic25\", \"Topic25\", \"Topic25\", \"Topic25\", \"Topic25\", \"Topic25\", \"Topic25\", \"Topic25\", \"Topic25\", \"Topic25\", \"Topic25\", \"Topic25\", \"Topic25\", \"Topic25\", \"Topic26\", \"Topic26\", \"Topic26\", \"Topic26\", \"Topic26\", \"Topic26\", \"Topic26\", \"Topic26\", \"Topic26\", \"Topic26\", \"Topic26\", \"Topic26\", \"Topic26\", \"Topic26\", \"Topic26\", \"Topic27\", \"Topic27\", \"Topic27\", \"Topic27\", \"Topic27\", \"Topic27\", \"Topic27\", \"Topic27\", \"Topic27\", \"Topic27\", \"Topic27\", \"Topic27\", \"Topic27\", \"Topic27\", \"Topic27\", \"Topic28\", \"Topic28\", \"Topic28\", \"Topic28\", \"Topic28\", \"Topic28\", \"Topic28\", \"Topic28\", \"Topic28\", \"Topic28\", \"Topic28\", \"Topic28\", \"Topic28\", \"Topic28\", \"Topic28\", \"Topic29\", \"Topic29\", \"Topic29\", \"Topic29\", \"Topic29\", \"Topic29\", \"Topic29\", \"Topic29\", \"Topic29\", \"Topic29\", \"Topic29\", \"Topic29\", \"Topic29\", \"Topic29\", \"Topic29\", \"Topic30\", \"Topic30\", \"Topic30\", \"Topic30\", \"Topic30\", \"Topic30\", \"Topic30\", \"Topic30\", \"Topic30\", \"Topic30\", \"Topic30\", \"Topic30\", \"Topic30\", \"Topic30\", \"Topic30\"], \"logprob\": [15.0, 14.0, 13.0, 12.0, 11.0, 10.0, 9.0, 8.0, 7.0, 6.0, 5.0, 4.0, 3.0, 2.0, 1.0, -1.5416, -2.2185, -2.2185, -2.2185, -2.2185, -2.2185, -2.2185, -2.2185, -5.6525, -5.6525, -5.6525, -5.6525, -5.6525, -5.6525, -5.6525, -1.4713, -1.4713, -1.4713, -1.4713, -4.9053, -4.9053, -4.9053, -4.9053, -4.9053, -4.9053, -4.9053, -4.9053, -4.9053, -4.9053, -4.9053, -1.4713, -1.4713, -1.4713, -1.4713, -4.9053, -4.9053, -4.9053, -4.9053, -4.9053, -4.9053, -4.9053, -4.9053, -4.9053, -4.9053, -4.9053, -2.7081, -2.7081, -2.7081, -2.7081, -2.7081, -2.7081, -2.7081, -2.7081, -2.7081, -2.7081, -2.7081, -2.7081, -2.7081, -2.7081, -2.7081, -2.7081, -2.7081, -2.7081, -2.7081, -2.7081, -2.7081, -2.7081, -2.7081, -2.7081, -2.7081, -2.7081, -2.7081, -2.7081, -2.7081, -2.7081, -2.7081, -2.7081, -2.7081, -2.7081, -2.7081, -2.7081, -2.7081, -2.7081, -2.7081, -2.7081, -2.7081, -2.7081, -2.7081, -2.7081, -2.7081, -2.7081, -2.7081, -2.7081, -2.7081, -2.7081, -2.7081, -2.7081, -2.7081, -2.7081, -2.7081, -2.7081, -2.7081, -2.7081, -2.7081, -2.7081, -2.7081, -2.7081, -2.7081, -2.7081, -2.7081, -2.7081, -2.7081, -2.7081, -2.7081, -2.7081, -2.7081, -2.7081, -2.7081, -2.7081, -2.7081, -2.7081, -2.7081, -2.7081, -2.7081, -2.7081, -2.7081, -2.7081, -2.7081, -2.7081, -2.7081, -2.7081, -2.7081, -2.7081, -2.7081, -2.7081, -2.7081, -2.7081, -2.7081, -2.7081, -2.7081, -2.7081, -2.7081, -2.7081, -2.7081, -2.7081, -2.7081, -2.7081, -2.7081, -2.7081, -2.7081, -2.7081, -2.7081, -2.7081, -2.7081, -2.7081, -2.7081, -2.7081, -2.7081, -2.7081, -2.7081, -2.7081, -2.7081, -2.7081, -2.7081, -2.7081, -2.7081, -2.7081, -2.7081, -2.7081, -2.7081, -2.7081, -2.7081, -2.7081, -2.7081, -2.7081, -2.7081, -2.7081, -2.7081, -2.7081, -2.7081, -2.7081, -2.7081, -2.7081, -2.7081, -2.7081, -2.7081, -2.7081, -2.7081, -2.7081, -2.7081, -2.7081, -2.7081, -2.7081, -2.7081, -2.7081, -2.7081, -2.7081, -2.7081, -2.7081, -2.7081, -2.7081, -2.7081, -2.7081, -2.7081, -2.7081, -2.7081, -2.7081, -2.7081, -2.7081, -2.7081, -2.7081, -2.7081, -2.7081, -2.7081, -2.7081, -2.7081, -2.7081, -2.7081, -2.7081, -2.7081, -2.7081, -2.7081, -2.7081, -2.7081, -2.7081, -2.7081, -2.7081, -2.7081, -2.7081, -2.7081, -2.7081, -2.7081, -2.7081, -2.7081, -2.7081, -2.7081, -2.7081, -2.7081, -2.7081, -2.7081, -2.7081, -2.7081, -2.7081, -2.7081, -2.7081, -2.7081, -2.7081, -2.7081, -2.7081, -2.7081, -2.7081, -2.7081, -2.7081, -2.7081, -2.7081, -2.7081, -2.7081, -2.7081, -2.7081, -2.7081, -2.7081, -2.7081, -2.7081, -2.7081, -2.7081, -2.7081, -2.7081, -2.7081, -2.7081, -2.7081, -2.7081, -2.7081, -2.7081, -2.7081, -2.7081, -2.7081, -2.7081, -2.7081, -2.7081, -2.7081, -2.7081, -2.7081, -2.7081, -2.7081, -2.7081, -2.7081, -2.7081, -2.7081, -2.7081, -2.7081, -2.7081, -2.7081, -2.7081, -2.7081, -2.7081, -2.7081, -2.7081, -2.7081, -2.7081, -2.7081, -2.7081, -2.7081, -2.7081, -2.7081, -2.7081, -2.7081, -2.7081, -2.7081, -2.7081, -2.7081, -2.7081, -2.7081, -2.7081, -2.7081, -2.7081, -2.7081, -2.7081, -2.7081, -2.7081, -2.7081, -2.7081, -2.7081, -2.7081, -2.7081, -2.7081, -2.7081, -2.7081, -2.7081, -2.7081, -2.7081, -2.7081, -2.7081, -2.7081, -2.7081, -2.7081, -2.7081, -2.7081, -2.7081, -2.7081, -2.7081, -2.7081, -2.7081, -2.7081, -2.7081, -2.7081, -2.7081, -2.7081, -2.7081, -2.7081, -2.7081, -2.7081, -2.7081, -2.7081, -2.7081, -2.7081, -2.7081, -2.7081, -2.7081, -2.7081, -2.7081, -2.7081, -2.7081, -2.7081, -2.7081, -2.7081, -2.7081, -2.7081, -2.7081, -2.7081, -2.7081, -2.7081, -2.7081, -2.7081, -2.7081, -2.7081, -2.7081, -2.7081, -2.7081, -2.7081, -2.7081, -2.7081, -2.7081, -2.7081, -2.7081, -2.7081, -2.7081, -2.7081, -2.7081, -2.7081, -2.7081, -2.7081, -2.7081, -2.7081, -2.7081, -2.7081, -2.7081, -2.7081, -2.7081, -2.7081, -2.7081, -2.7081, -2.7081, -2.7081, -2.7081, -2.7081, -2.7081, -2.7081, -2.7081, -2.7081, -2.7081, -2.7081, -2.7081, -2.7081, -2.7081, -2.7081, -2.7081, -2.7081, -2.7081, -2.7081, -2.7081, -2.7081, -2.7081, -2.7081, -2.7081, -2.7081, -2.7081, -2.7081, -2.7081, -2.7081, -2.7081, -2.7081, -2.7081, -2.7081, -2.7081, -2.7081, -2.7081, -2.7081, -2.7081, -2.7081, -2.7081, -2.7081, -2.7081, -2.7081, -2.7081, -2.7081, -2.7081, -2.7081, -2.7081, -2.7081, -2.7081], \"loglift\": [15.0, 14.0, 13.0, 12.0, 11.0, 10.0, 9.0, 8.0, 7.0, 6.0, 5.0, 4.0, 3.0, 2.0, 1.0, 0.6188, 0.5424, 0.5424, 0.5424, 0.5424, 0.5424, 0.5424, 0.0006, -2.7818, -2.7818, -2.7818, -2.7818, -2.7818, -2.7818, -2.7818, 1.3994, 1.3994, 1.3994, 1.3994, -2.0346, -2.0346, -2.0346, -2.1443, -2.1443, -2.1443, -2.1443, -2.1443, -2.1443, -2.6862, -2.7449, 1.3994, 1.3994, 1.3994, 0.7478, -2.0346, -2.0346, -2.0346, -2.0346, -2.1443, -2.1443, -2.1443, -2.1443, -2.1443, -2.1443, -2.7449, 0.1626, 0.1626, 0.1626, 0.1626, 0.1626, 0.1626, 0.1626, 0.0529, 0.0529, 0.0529, 0.0529, 0.0529, 0.0529, -0.4889, -0.5476, 0.1626, 0.1626, 0.1626, 0.1626, 0.1626, 0.1626, 0.1626, 0.0529, 0.0529, 0.0529, 0.0529, 0.0529, 0.0529, -0.4889, -0.5476, 0.1626, 0.1626, 0.1626, 0.1626, 0.1626, 0.1626, 0.1626, 0.0529, 0.0529, 0.0529, 0.0529, 0.0529, 0.0529, -0.4889, -0.5476, 0.1626, 0.1626, 0.1626, 0.1626, 0.1626, 0.1626, 0.1626, 0.0529, 0.0529, 0.0529, 0.0529, 0.0529, 0.0529, -0.4889, -0.5476, 0.1626, 0.1626, 0.1626, 0.1626, 0.1626, 0.1626, 0.1626, 0.0529, 0.0529, 0.0529, 0.0529, 0.0529, 0.0529, -0.4889, -0.5476, 0.1626, 0.1626, 0.1626, 0.1626, 0.1626, 0.1626, 0.1626, 0.0529, 0.0529, 0.0529, 0.0529, 0.0529, 0.0529, -0.4889, -0.5476, 0.1626, 0.1626, 0.1626, 0.1626, 0.1626, 0.1626, 0.1626, 0.0529, 0.0529, 0.0529, 0.0529, 0.0529, 0.0529, -0.4889, -0.5476, 0.1626, 0.1626, 0.1626, 0.1626, 0.1626, 0.1626, 0.1626, 0.0529, 0.0529, 0.0529, 0.0529, 0.0529, 0.0529, -0.4889, -0.5476, 0.1626, 0.1626, 0.1626, 0.1626, 0.1626, 0.1626, 0.1626, 0.0529, 0.0529, 0.0529, 0.0529, 0.0529, 0.0529, -0.4889, -0.5476, 0.1626, 0.1626, 0.1626, 0.1626, 0.1626, 0.1626, 0.1626, 0.0529, 0.0529, 0.0529, 0.0529, 0.0529, 0.0529, -0.4889, -0.5476, 0.1626, 0.1626, 0.1626, 0.1626, 0.1626, 0.1626, 0.1626, 0.0529, 0.0529, 0.0529, 0.0529, 0.0529, 0.0529, -0.4889, -0.5476, 0.1626, 0.1626, 0.1626, 0.1626, 0.1626, 0.1626, 0.1626, 0.0529, 0.0529, 0.0529, 0.0529, 0.0529, 0.0529, -0.4889, -0.5476, 0.1626, 0.1626, 0.1626, 0.1626, 0.1626, 0.1626, 0.1626, 0.0529, 0.0529, 0.0529, 0.0529, 0.0529, 0.0529, -0.4889, -0.5476, 0.1626, 0.1626, 0.1626, 0.1626, 0.1626, 0.1626, 0.1626, 0.0529, 0.0529, 0.0529, 0.0529, 0.0529, 0.0529, -0.4889, -0.5476, 0.1626, 0.1626, 0.1626, 0.1626, 0.1626, 0.1626, 0.1626, 0.0529, 0.0529, 0.0529, 0.0529, 0.0529, 0.0529, -0.4889, -0.5476, 0.1626, 0.1626, 0.1626, 0.1626, 0.1626, 0.1626, 0.1626, 0.0529, 0.0529, 0.0529, 0.0529, 0.0529, 0.0529, -0.4889, -0.5476, 0.1626, 0.1626, 0.1626, 0.1626, 0.1626, 0.1626, 0.1626, 0.0529, 0.0529, 0.0529, 0.0529, 0.0529, 0.0529, -0.4889, -0.5476, 0.1626, 0.1626, 0.1626, 0.1626, 0.1626, 0.1626, 0.1626, 0.0529, 0.0529, 0.0529, 0.0529, 0.0529, 0.0529, -0.4889, -0.5476, 0.1626, 0.1626, 0.1626, 0.1626, 0.1626, 0.1626, 0.1626, 0.0529, 0.0529, 0.0529, 0.0529, 0.0529, 0.0529, -0.4889, -0.5476, 0.1626, 0.1626, 0.1626, 0.1626, 0.1626, 0.1626, 0.1626, 0.0529, 0.0529, 0.0529, 0.0529, 0.0529, 0.0529, -0.4889, -0.5476, 0.1626, 0.1626, 0.1626, 0.1626, 0.1626, 0.1626, 0.1626, 0.0529, 0.0529, 0.0529, 0.0529, 0.0529, 0.0529, -0.4889, -0.5476, 0.1626, 0.1626, 0.1626, 0.1626, 0.1626, 0.1626, 0.1626, 0.0529, 0.0529, 0.0529, 0.0529, 0.0529, 0.0529, -0.4889, -0.5476, 0.1626, 0.1626, 0.1626, 0.1626, 0.1626, 0.1626, 0.1626, 0.0529, 0.0529, 0.0529, 0.0529, 0.0529, 0.0529, -0.4889, -0.5476, 0.1626, 0.1626, 0.1626, 0.1626, 0.1626, 0.1626, 0.1626, 0.0529, 0.0529, 0.0529, 0.0529, 0.0529, 0.0529, -0.4889, -0.5476, 0.1626, 0.1626, 0.1626, 0.1626, 0.1626, 0.1626, 0.1626, 0.0529, 0.0529, 0.0529, 0.0529, 0.0529, 0.0529, -0.4889, -0.5476, 0.1626, 0.1626, 0.1626, 0.1626, 0.1626, 0.1626, 0.1626, 0.0529, 0.0529, 0.0529, 0.0529, 0.0529, 0.0529, -0.4889, -0.5476, 0.1626, 0.1626, 0.1626, 0.1626, 0.1626, 0.1626, 0.1626, 0.0529, 0.0529, 0.0529, 0.0529, 0.0529, 0.0529, -0.4889, -0.5476]}, \"token.table\": {\"Topic\": [1, 3, 2, 2, 1, 2, 1, 1, 1, 3, 2, 1, 3, 3, 1, 1], \"Freq\": [0.9302725785947261, 1.0381743174326088, 1.0381736261597523, 1.0381736261597523, 0.9302725785947261, 1.0381736261597523, 0.9302725785947261, 0.9302725785947261, 0.5411337669524866, 0.5411337669524866, 1.0381736261597523, 1.020566260565679, 1.0381743174326088, 1.0381743174326088, 0.9302725785947261, 0.9302725785947261], \"Term\": [\"category\", \"collect\", \"datum\", \"first\", \"follow\", \"get\", \"listen\", \"organise\", \"score\", \"score\", \"step\", \"story\", \"student\", \"teacher\", \"telling\", \"writing\"]}, \"R\": 15, \"lambda.step\": 0.01, \"plot.opts\": {\"xlab\": \"PC1\", \"ylab\": \"PC2\"}, \"topic.order\": [27, 17, 12, 1, 29, 28, 26, 25, 24, 23, 22, 21, 20, 19, 18, 16, 2, 15, 14, 13, 11, 10, 9, 8, 7, 6, 5, 4, 3, 30]};\n",
              "\n",
              "function LDAvis_load_lib(url, callback){\n",
              "  var s = document.createElement('script');\n",
              "  s.src = url;\n",
              "  s.async = true;\n",
              "  s.onreadystatechange = s.onload = callback;\n",
              "  s.onerror = function(){console.warn(\"failed to load library \" + url);};\n",
              "  document.getElementsByTagName(\"head\")[0].appendChild(s);\n",
              "}\n",
              "\n",
              "if(typeof(LDAvis) !== \"undefined\"){\n",
              "   // already loaded: just create the visualization\n",
              "   !function(LDAvis){\n",
              "       new LDAvis(\"#\" + \"ldavis_el1271400005067856801359557986\", ldavis_el1271400005067856801359557986_data);\n",
              "   }(LDAvis);\n",
              "}else if(typeof define === \"function\" && define.amd){\n",
              "   // require.js is available: use it to load d3/LDAvis\n",
              "   require.config({paths: {d3: \"https://d3js.org/d3.v5\"}});\n",
              "   require([\"d3\"], function(d3){\n",
              "      window.d3 = d3;\n",
              "      LDAvis_load_lib(\"https://cdn.jsdelivr.net/gh/bmabey/pyLDAvis@3.4.0/pyLDAvis/js/ldavis.v3.0.0.js\", function(){\n",
              "        new LDAvis(\"#\" + \"ldavis_el1271400005067856801359557986\", ldavis_el1271400005067856801359557986_data);\n",
              "      });\n",
              "    });\n",
              "}else{\n",
              "    // require.js not available: dynamically load d3 & LDAvis\n",
              "    LDAvis_load_lib(\"https://d3js.org/d3.v5.js\", function(){\n",
              "         LDAvis_load_lib(\"https://cdn.jsdelivr.net/gh/bmabey/pyLDAvis@3.4.0/pyLDAvis/js/ldavis.v3.0.0.js\", function(){\n",
              "                 new LDAvis(\"#\" + \"ldavis_el1271400005067856801359557986\", ldavis_el1271400005067856801359557986_data);\n",
              "            })\n",
              "         });\n",
              "}\n",
              "</script>"
            ]
          },
          "metadata": {},
          "execution_count": 30
        }
      ]
    }
  ]
}